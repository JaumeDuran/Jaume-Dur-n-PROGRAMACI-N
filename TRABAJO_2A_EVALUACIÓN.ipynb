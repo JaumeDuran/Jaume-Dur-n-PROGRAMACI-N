{
  "cells": [
    {
      "cell_type": "markdown",
      "metadata": {
        "id": "view-in-github",
        "colab_type": "text"
      },
      "source": [
        "<a href=\"https://colab.research.google.com/github/JaumeDuran/Jaume-Dur-n-PROGRAMACI-N/blob/main/TRABAJO_2A_EVALUACI%C3%93N.ipynb\" target=\"_parent\"><img src=\"https://colab.research.google.com/assets/colab-badge.svg\" alt=\"Open In Colab\"/></a>"
      ]
    },
    {
      "cell_type": "code",
      "execution_count": null,
      "metadata": {
        "id": "C-Rkcmnwqyv8",
        "colab": {
          "base_uri": "https://localhost:8080/",
          "height": 304
        },
        "outputId": "e8e0d79c-a2d9-4ac4-fde6-a64ddbfb9d3f"
      },
      "outputs": [
        {
          "output_type": "stream",
          "name": "stdout",
          "text": [
            "\u001b[34mBienvenido al programa de preguntas y respuestas \u001b[0m\n",
            "Introduzca su nombre, porfavor:  S\n",
            "\u001b[33mLe haremos una serie de preguntas sobre las capitales de los paises actuales reconocidos\u001b[0m\n",
            "\u001b[31mElige la dificultad de las preguntas:\u001b[0m\n"
          ]
        },
        {
          "output_type": "error",
          "ename": "FileNotFoundError",
          "evalue": "ignored",
          "traceback": [
            "\u001b[0;31m---------------------------------------------------------------------------\u001b[0m",
            "\u001b[0;31mFileNotFoundError\u001b[0m                         Traceback (most recent call last)",
            "\u001b[0;32m<ipython-input-1-9fa60a8d4f0b>\u001b[0m in \u001b[0;36m<cell line: 12>\u001b[0;34m()\u001b[0m\n\u001b[1;32m     10\u001b[0m \u001b[0;34m\u001b[0m\u001b[0m\n\u001b[1;32m     11\u001b[0m \u001b[0;34m\u001b[0m\u001b[0m\n\u001b[0;32m---> 12\u001b[0;31m \u001b[0mfichero\u001b[0m\u001b[0;34m=\u001b[0m\u001b[0mopen\u001b[0m\u001b[0;34m(\u001b[0m\u001b[0;34m\"preguntas.txt\"\u001b[0m\u001b[0;34m,\u001b[0m\u001b[0;34m\"r+\"\u001b[0m\u001b[0;34m)\u001b[0m\u001b[0;34m\u001b[0m\u001b[0;34m\u001b[0m\u001b[0m\n\u001b[0m\u001b[1;32m     13\u001b[0m \u001b[0mlista\u001b[0m \u001b[0;34m=\u001b[0m \u001b[0mfichero\u001b[0m\u001b[0;34m.\u001b[0m\u001b[0mreadlines\u001b[0m\u001b[0;34m(\u001b[0m\u001b[0;34m)\u001b[0m\u001b[0;34m\u001b[0m\u001b[0;34m\u001b[0m\u001b[0m\n\u001b[1;32m     14\u001b[0m \u001b[0;31m# Aquí tendriamos la lista de Paises con sus respectivas capitales\u001b[0m\u001b[0;34m\u001b[0m\u001b[0;34m\u001b[0m\u001b[0m\n",
            "\u001b[0;31mFileNotFoundError\u001b[0m: [Errno 2] No such file or directory: 'preguntas.txt'"
          ]
        }
      ],
      "source": [
        "# Juan Ignacio Vidal y Jaume Durán\n",
        "# Le preguntamos al usuario sus datos personales\n",
        "print(\"\\033[34mBienvenido al programa de preguntas y respuestas \\033[0m\")\n",
        "\n",
        "nombre=input(\"Introduzca su nombre, porfavor:  \")\n",
        "print(\"\\033[33mLe haremos una serie de preguntas sobre las capitales de los paises actuales reconocidos\\033[0m\")\n",
        "\n",
        "# Le preguntamos al usuario que escoja la dificultad de las preguntas\n",
        "print(\"\\033[31mElige la dificultad de las preguntas:\\033[0m\")\n",
        "\n",
        "\n",
        "fichero=open(\"preguntas.txt\",\"r+\")\n",
        "lista = fichero.readlines()\n",
        "# Aquí tendriamos la lista de Paises con sus respectivas capitales\n",
        "\n",
        "\n",
        "\n",
        "n = 5\n",
        "while n>4 or n<1:\n",
        "  n=int(input(\"Diga que dificultad quiere: \"))\n",
        "  if n>4 or n<1:\n",
        "    continue\n",
        "\n",
        "  \n",
        "# Estas son las preguntas de la dificultad 1\n",
        "\n",
        "  if n==1:\n",
        "     N1=input(lista[0])\n",
        "     N2=input(lista[2])\n",
        "     N3=input(lista[4])\n",
        "     if N1==(lista[1][0:-1]) and N2==(lista[3][0:-1]) and N3==(lista[5][0:-1]):\n",
        "      print(\"¡Felicidades \" + nombre + \" has acertado todas las preguntas de la dificultad \" + str(n) + \"!\")\n",
        "      jugar_nuevamente = input(\"¿Desea volver a jugar? (S/N): \")\n",
        "      if jugar_nuevamente.lower() == \"si\":\n",
        "       continue\n",
        "\n",
        "      if jugar_nuevamente.lower() == \"no\":\n",
        "        print(\"Gracias por jugar\")\n",
        "        break\n",
        "     else:\n",
        "       print(\"Lo siento no as respondido bien a las preguntas.\")\n",
        "       print(\"Tu nombre se añadira al salon de la fama\")\n",
        "# Estas son las preguntas de la dificultad 2\n",
        "\n",
        "  if n==2:\n",
        "     N1=input(lista[0])\n",
        "     N2=input(lista[2])\n",
        "     N3=input(lista[4])\n",
        "     N4=input(lista[6])\n",
        "     N5=input(lista[8])\n",
        "     if N1==(lista[1][0:-1]) and N2==(lista[3][0:-1]) and N3==(lista[5][0:-1]) and N4==(lista[7][0:-1]) and N5==(lista[9][0:-1]):\n",
        "         print(\"¡Felicidades \" + nombre + \" has acertado todas las preguntas de la dificultad \" + str(n) + \"!\")\n",
        "         jugar_nuevamente = input(\"¿Desea volver a jugar? (S/N): \")\n",
        "         if jugar_nuevamente.lower() == \"si\":\n",
        "          continue\n",
        "          break\n",
        "         else:\n",
        "             exit()\n",
        "     else:\n",
        "         print(\"Respuesta incorrecta. Fin del juego.\")\n",
        "         break\n",
        "# Estas son las preguntas de la dificultad 3\n",
        "\n",
        "  if n==3:\n",
        "      N1=input(lista[0]) \n",
        "      N2=input(lista[2])\n",
        "      N3=input(lista[4])\n",
        "      N4=input(lista[6])\n",
        "      N5=input(lista[8])\n",
        "      N6=input(lista[10])\n",
        "      N7=input(lista[12])\n",
        "      if N1==(lista[1][0:-1]) and N2==(lista[3][0:-1]) and N3==(lista[5][0:-1]) and N4==(lista[7][0:-1]) and N5==(lista[9][0:-1]) and N6==(lista[11][0:-1]) and N7==(lista[13][0:-1]):\n",
        "          print(\"¡Felicidades \" + nombre + \" has acertado todas las preguntas de la dificultad \" + str(n) + \"!\")\n",
        "          jugar_nuevamente = input(\"¿Desea volver a jugar? (S/N): \")\n",
        "          if jugar_nuevamente.lower() == \"si\":\n",
        "           continue\n",
        "           break\n",
        "          else:\n",
        "           exit()\n",
        "      else:\n",
        "          print(\"Respuesta incorrecta. Fin del juego.\")\n",
        "          break\n",
        "# Estas son las preguntas de la dificultad 4\n",
        "\n",
        "  if n==4:\n",
        "      N1=input(lista[0])\n",
        "      N2=input(lista[1])\n",
        "      N3=input(lista[2])\n",
        "      N4=input(lista[3])\n",
        "      N5=input(lista[4])\n",
        "      N6=input(lista[5])\n",
        "      N7=input(lista[6])\n",
        "      N8=input(lista[7])\n",
        "      N9=input(lista[8])\n",
        "      N10=input(lista[9])\n",
        "      if N1==(lista[1][0:-1]) and N2==(lista[3][0:-1]) and N3==(lista[5][0:-1]) and N4==(lista[7]) and N5==(lista[9][0:-1]) and N6==(lista[11][0:-1]) and N7==(lista[13][0:-1]) and N8==(lista[15][0:-1]) and N9==(lista[17][0:-1]) and N10==(lista[19][0:-1]):\n",
        "          print(\"¡Felicidades \" + nombre + \" has acertado todas las preguntas de la dificultad \" + str(n) + \"!\")\n",
        "          jugar_nuevamente = input(\"¿Desea volver a jugar? (S/N): \")\n",
        "          if jugar_nuevamente.lower() == \"si\":\n",
        "           continue\n",
        "           break\n",
        "          else:\n",
        "           exit()\n",
        "      else:\n",
        "            print(\"Respuesta incorrecta. Fin del juego.\")\n",
        "            break"
      ]
    }
  ],
  "metadata": {
    "colab": {
      "provenance": [],
      "include_colab_link": true
    },
    "kernelspec": {
      "display_name": "Python 3",
      "name": "python3"
    },
    "language_info": {
      "name": "python"
    },
    "gpuClass": "standard"
  },
  "nbformat": 4,
  "nbformat_minor": 0
}